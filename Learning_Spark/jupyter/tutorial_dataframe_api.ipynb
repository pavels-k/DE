{
 "metadata": {
  "language_info": {
   "codemirror_mode": {
    "name": "ipython",
    "version": 3
   },
   "file_extension": ".py",
   "mimetype": "text/x-python",
   "name": "python",
   "nbconvert_exporter": "python",
   "pygments_lexer": "ipython3",
   "version": "3.7.0"
  },
  "orig_nbformat": 2,
  "kernelspec": {
   "name": "python370jvsc74a57bd0a431e305b0a2f319d2f929bdf86201a77cba2516e49afed44ec7963b78c4349d",
   "display_name": "Python 3.7.0 64-bit"
  },
  "metadata": {
   "interpreter": {
    "hash": "a431e305b0a2f319d2f929bdf86201a77cba2516e49afed44ec7963b78c4349d"
   }
  }
 },
 "nbformat": 4,
 "nbformat_minor": 2,
 "cells": [
  {
   "cell_type": "code",
   "execution_count": 1,
   "metadata": {},
   "outputs": [],
   "source": [
    "#! /usr/bin/env python\n",
    "# -*- coding: utf-8 -*-\n",
    "\n",
    "from pyspark import SparkConf\n",
    "from pyspark.context import SparkContext\n",
    "from pyspark.sql import SQLContext, SparkSession\n",
    "from pyspark.sql.types import *\n",
    "from pyspark.sql.functions import *\n",
    "import pandas as pd\n",
    "\n",
    "\n",
    "SparkContext.getOrCreate(SparkConf())\n",
    "spark = SparkSession.builder.master('yarn').enableHiveSupport().getOrCreate()\n",
    "sc = SparkContext.getOrCreate(SparkConf())\n",
    "sqlContext = SQLContext(sc)\n",
    "\n",
    "pd.set_option('display.max_columns', None)\n",
    "pd.set_option('display.max_rows', None)\n",
    "\n",
    "spark.conf.set(\"spark.sql.session.timezone\", \"GMT\")\n",
    "spark.conf.set(\"spark.sql.execution.arrow\", \"GMT\")"
   ]
  },
  {
   "cell_type": "code",
   "execution_count": 2,
   "metadata": {},
   "outputs": [],
   "source": [
    "pd_f = pd.read_csv('from_bda2.csv', header = 0, sep = ';')\n",
    "mySchema = StructType([ StructField(\"RATE_TO_CRNC_GID\", StringType(), True),\\\n",
    "                        StructField(\"RATE_FROM_CRNC_GID\", StringType(), True),\n",
    "                        StructField(\"RATE_VALUE\", FloatType(), True),\n",
    "                        StructField(\"RATE_ROW_STATUS\", StringType(), True),\n",
    "                        StructField(\"RATE_VALID_BEGIN\", StringType(), True),\n",
    "                        StructField(\"RATE_VALID_END\", StringType(), True)]\n",
    "    )\n",
    "\n",
    "#pd_f['RATE_VALID_BEGIN'] = pd.to_datetime(pd_f['RATE_VALID_BEGIN'])\n",
    "#pd_f['RATE_VALID_END'] = pd.to_datetime(pd_f['RATE_VALID_END'])\n",
    "\n",
    "rates = spark.createDataFrame(pd_f, schema = mySchema)\n",
    "rates.createOrReplaceTempView(\"rates\")\n"
   ]
  },
  {
   "cell_type": "code",
   "execution_count": 3,
   "metadata": {},
   "outputs": [
    {
     "output_type": "stream",
     "name": "stdout",
     "text": [
      "+----------------+------------------+------------+---------------+-------------------+-------------------+\n|RATE_TO_CRNC_GID|RATE_FROM_CRNC_GID|  RATE_VALUE|RATE_ROW_STATUS|   RATE_VALID_BEGIN|     RATE_VALID_END|\n+----------------+------------------+------------+---------------+-------------------+-------------------+\n|             JPY|               BYR|0.0061831963|              A|2016-12-30 00:00:00|2016-12-30 00:00:00|\n|             KGS|               BYR|0.0027317414|              A|2016-12-30 00:00:00|2016-12-30 00:00:00|\n|             KRW|               BYR| 0.014224724|              A|2016-12-30 00:00:00|2016-12-30 00:00:00|\n|             KZT|               BYR| 1.832138E-4|              A|2016-12-30 00:00:00|2016-12-30 00:00:00|\n|             MDL|               BYR| 0.006523749|              A|2016-12-30 00:00:00|2016-12-30 00:00:00|\n|             MTL|               BYR|  1.36147E-4|              A|2016-12-30 00:00:00|2016-12-30 00:00:00|\n+----------------+------------------+------------+---------------+-------------------+-------------------+\n\n"
     ]
    }
   ],
   "source": [
    "rates.show()"
   ]
  },
  {
   "cell_type": "code",
   "execution_count": 4,
   "metadata": {},
   "outputs": [],
   "source": [
    "rates_new = rates.select(\n",
    "    trim(col(\"RATE_TO_CRNC_GID\")).alias(\"RATE_TO_CRNC_GID\"),\n",
    "    trim(col(\"RATE_FROM_CRNC_GID\")).alias(\"RATE_FROM_CRNC_GID\"),\n",
    "    col(\"RATE_VALUE\").cast(DoubleType()).alias(\"RATE_VALUE\"),\n",
    "    col(\"RATE_ROW_STATUS\"),\n",
    "    to_timestamp(col(\"RATE_VALID_BEGIN\")).alias(\"RATE_VALID_BEGIN\"),\n",
    "    to_timestamp(col(\"RATE_VALID_END\")).alias(\"RATE_VALID_END\"),\n",
    "    lit(100).alias(\"some_number\"),\n",
    "    to_timestamp(lit(\"2020-01-01\")).alias(\"some_date\")\n",
    "    )"
   ]
  },
  {
   "cell_type": "code",
   "execution_count": 5,
   "metadata": {},
   "outputs": [
    {
     "output_type": "stream",
     "name": "stdout",
     "text": [
      "+----------------+------------------+--------------------+---------------+-------------------+-------------------+-----------+-------------------+\n|RATE_TO_CRNC_GID|RATE_FROM_CRNC_GID|          RATE_VALUE|RATE_ROW_STATUS|   RATE_VALID_BEGIN|     RATE_VALID_END|some_number|          some_date|\n+----------------+------------------+--------------------+---------------+-------------------+-------------------+-----------+-------------------+\n|             JPY|               BYR|0.006183196324855089|              A|2016-12-30 00:00:00|2016-12-30 00:00:00|        100|2020-01-01 00:00:00|\n|             KGS|               BYR|0.002731741406023...|              A|2016-12-30 00:00:00|2016-12-30 00:00:00|        100|2020-01-01 00:00:00|\n|             KRW|               BYR|0.014224723912775517|              A|2016-12-30 00:00:00|2016-12-30 00:00:00|        100|2020-01-01 00:00:00|\n|             KZT|               BYR|1.832137932069599...|              A|2016-12-30 00:00:00|2016-12-30 00:00:00|        100|2020-01-01 00:00:00|\n|             MDL|               BYR|0.006523748859763...|              A|2016-12-30 00:00:00|2016-12-30 00:00:00|        100|2020-01-01 00:00:00|\n|             MTL|               BYR|1.361470058327540...|              A|2016-12-30 00:00:00|2016-12-30 00:00:00|        100|2020-01-01 00:00:00|\n+----------------+------------------+--------------------+---------------+-------------------+-------------------+-----------+-------------------+\n\n"
     ]
    }
   ],
   "source": [
    "rates_new.show()"
   ]
  },
  {
   "cell_type": "code",
   "execution_count": null,
   "metadata": {},
   "outputs": [],
   "source": []
  }
 ]
}