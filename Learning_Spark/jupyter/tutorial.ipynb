{
 "metadata": {
  "language_info": {
   "codemirror_mode": {
    "name": "ipython",
    "version": 3
   },
   "file_extension": ".py",
   "mimetype": "text/x-python",
   "name": "python",
   "nbconvert_exporter": "python",
   "pygments_lexer": "ipython3",
   "version": "3.7.0"
  },
  "orig_nbformat": 2,
  "kernelspec": {
   "name": "python370jvsc74a57bd0a431e305b0a2f319d2f929bdf86201a77cba2516e49afed44ec7963b78c4349d",
   "display_name": "Python 3.7.0 64-bit"
  },
  "metadata": {
   "interpreter": {
    "hash": "a431e305b0a2f319d2f929bdf86201a77cba2516e49afed44ec7963b78c4349d"
   }
  }
 },
 "nbformat": 4,
 "nbformat_minor": 2,
 "cells": [
  {
   "cell_type": "code",
   "execution_count": 38,
   "metadata": {},
   "outputs": [],
   "source": [
    "#! /usr/bin/env python\n",
    "# -*- coding: utf-8 -*-\n",
    "\n",
    "from pyspark import SparkConf\n",
    "from pyspark.context import SparkContext\n",
    "from pyspark.sql import SQLContext, SparkSession\n",
    "import pandas as pd\n",
    "\n",
    "spark = SparkSession.builder.master('yarn').enableHiveSupport().getOrCreate()\n",
    "sc = SparkContext.getOrCreate(SparkConf())"
   ]
  },
  {
   "cell_type": "code",
   "execution_count": 13,
   "metadata": {},
   "outputs": [
    {
     "output_type": "stream",
     "name": "stdout",
     "text": [
      "+---+\n|  1|\n+---+\n|  1|\n+---+\n\n"
     ]
    }
   ],
   "source": [
    "spark.sql(\"select 1\").show()"
   ]
  },
  {
   "cell_type": "code",
   "execution_count": 8,
   "metadata": {},
   "outputs": [],
   "source": [
    "pd.set_option('display.max_columns', None)\n",
    "pd.set_option('display.max_rows', None)"
   ]
  },
  {
   "cell_type": "code",
   "execution_count": 14,
   "metadata": {},
   "outputs": [],
   "source": [
    "spark.conf.set(\"spark.sql.session.timezone\", \"GMT\")\n",
    "spark.conf.set(\"spark.sql.execution.arrow\", \"GMT\")"
   ]
  },
  {
   "cell_type": "code",
   "execution_count": 16,
   "metadata": {},
   "outputs": [],
   "source": [
    "df = spark.sql(\"select 1\")"
   ]
  },
  {
   "cell_type": "code",
   "execution_count": 24,
   "metadata": {},
   "outputs": [
    {
     "output_type": "stream",
     "name": "stdout",
     "text": [
      "+---------+\n|namespace|\n+---------+\n|  default|\n|my_schema|\n+---------+\n\n"
     ]
    }
   ],
   "source": [
    "spark.sql('create database if not exists my_schema')\n",
    "spark.sql(\"show databases\").show()"
   ]
  },
  {
   "cell_type": "code",
   "execution_count": 20,
   "metadata": {},
   "outputs": [],
   "source": [
    "df.write.mode('overwrite').format('parquet').saveAsTable('my_schema.spv_test')"
   ]
  },
  {
   "cell_type": "code",
   "execution_count": 27,
   "metadata": {},
   "outputs": [
    {
     "output_type": "stream",
     "name": "stdout",
     "text": [
      "+---+\n|  1|\n+---+\n|  1|\n+---+\n\n"
     ]
    }
   ],
   "source": [
    "spark.sql('select * from my_schema.spv_test').show()"
   ]
  },
  {
   "cell_type": "code",
   "execution_count": 28,
   "metadata": {},
   "outputs": [
    {
     "output_type": "stream",
     "name": "stdout",
     "text": [
      "+---+\n|  1|\n+---+\n|  1|\n+---+\n\n"
     ]
    }
   ],
   "source": [
    "df.createOrReplaceTempView(\"test_view\")\n",
    "spark.sql('select * from test_view').show()"
   ]
  },
  {
   "cell_type": "code",
   "execution_count": 32,
   "metadata": {},
   "outputs": [
    {
     "output_type": "execute_result",
     "data": {
      "text/plain": [
       "DataFrame[]"
      ]
     },
     "metadata": {},
     "execution_count": 32
    }
   ],
   "source": [
    "#Insert\n",
    "spark.sql(\"\"\"insert into table my_schema.spv_test\n",
    "select 2\"\"\")"
   ]
  },
  {
   "cell_type": "code",
   "execution_count": 34,
   "metadata": {},
   "outputs": [
    {
     "output_type": "stream",
     "name": "stdout",
     "text": [
      "+---+\n|  1|\n+---+\n|  1|\n|  2|\n+---+\n\n"
     ]
    }
   ],
   "source": [
    "spark.sql('select * from my_schema.spv_test').show()"
   ]
  },
  {
   "cell_type": "code",
   "execution_count": 40,
   "metadata": {},
   "outputs": [],
   "source": [
    "from pyspark.sql import Row\n",
    "l = [('один',1),('два',2),('три',3),('X',0),]\n",
    "rdd = sc.parallelize(l)\n",
    "numbers = rdd.map(lambda x: Row(name=x[0], id=int(x[1])))\n",
    "df_1 = sqlContext.createDataFrame(numbers)"
   ]
  },
  {
   "cell_type": "code",
   "execution_count": 42,
   "metadata": {},
   "outputs": [
    {
     "output_type": "stream",
     "name": "stdout",
     "text": [
      "+----+---+\n|name| id|\n+----+---+\n|один|  1|\n| два|  2|\n| три|  3|\n|   X|  0|\n+----+---+\n\n"
     ]
    }
   ],
   "source": [
    "df_1.show()"
   ]
  }
 ]
}