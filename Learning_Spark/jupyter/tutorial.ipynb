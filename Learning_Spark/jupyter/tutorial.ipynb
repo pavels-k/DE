{
 "metadata": {
  "language_info": {
   "codemirror_mode": {
    "name": "ipython",
    "version": 3
   },
   "file_extension": ".py",
   "mimetype": "text/x-python",
   "name": "python",
   "nbconvert_exporter": "python",
   "pygments_lexer": "ipython3",
   "version": "3.8.5"
  },
  "orig_nbformat": 2,
  "kernelspec": {
   "name": "python3",
   "display_name": "Python 3.8.5 64-bit"
  },
  "metadata": {
   "interpreter": {
    "hash": "a431e305b0a2f319d2f929bdf86201a77cba2516e49afed44ec7963b78c4349d"
   }
  },
  "interpreter": {
   "hash": "916dbcbb3f70747c44a77c7bcd40155683ae19c65e1c03b4aa3499c5328201f1"
  }
 },
 "nbformat": 4,
 "nbformat_minor": 2,
 "cells": [
  {
   "cell_type": "code",
   "execution_count": 1,
   "metadata": {},
   "outputs": [],
   "source": [
    "#! /usr/bin/env python\n",
    "# -*- coding: utf-8 -*-\n",
    "\n",
    "from pyspark import SparkConf\n",
    "from pyspark.context import SparkContext\n",
    "from pyspark.sql import SQLContext, SparkSession\n",
    "import pandas as pd\n",
    "\n",
    "\n",
    "SparkContext.getOrCreate(SparkConf())\n",
    "spark = SparkSession.builder.master('yarn').enableHiveSupport().getOrCreate()\n",
    "sc = SparkContext.getOrCreate(SparkConf())\n",
    "sqlContext = SQLContext(sc)"
   ]
  },
  {
   "cell_type": "code",
   "execution_count": 2,
   "metadata": {},
   "outputs": [
    {
     "output_type": "stream",
     "name": "stdout",
     "text": [
      "+---+\n|  1|\n+---+\n|  1|\n+---+\n\n"
     ]
    }
   ],
   "source": [
    "spark.sql(\"select 1\").show()"
   ]
  },
  {
   "cell_type": "code",
   "execution_count": 3,
   "metadata": {},
   "outputs": [],
   "source": [
    "pd.set_option('display.max_columns', None)\n",
    "pd.set_option('display.max_rows', None)"
   ]
  },
  {
   "cell_type": "code",
   "execution_count": 4,
   "metadata": {},
   "outputs": [],
   "source": [
    "spark.conf.set(\"spark.sql.session.timezone\", \"GMT\")\n",
    "spark.conf.set(\"spark.sql.execution.arrow\", \"GMT\")"
   ]
  },
  {
   "cell_type": "code",
   "execution_count": 5,
   "metadata": {},
   "outputs": [],
   "source": [
    "df = spark.sql(\"select 1\")"
   ]
  },
  {
   "cell_type": "code",
   "execution_count": 6,
   "metadata": {},
   "outputs": [
    {
     "output_type": "stream",
     "name": "stdout",
     "text": [
      "+---------+\n|namespace|\n+---------+\n|  default|\n|my_schema|\n+---------+\n\n"
     ]
    }
   ],
   "source": [
    "spark.sql('create database if not exists my_schema')\n",
    "spark.sql(\"show databases\").show()"
   ]
  },
  {
   "cell_type": "code",
   "execution_count": 7,
   "metadata": {},
   "outputs": [],
   "source": [
    "# spark.sql('drop table if exists my_schema.spv_test purge') # !!!\n",
    "df.write.mode('overwrite').format('parquet').saveAsTable('my_schema.spv_test')"
   ]
  },
  {
   "cell_type": "code",
   "execution_count": 8,
   "metadata": {},
   "outputs": [
    {
     "output_type": "stream",
     "name": "stdout",
     "text": [
      "+---+\n|  1|\n+---+\n|  1|\n+---+\n\n"
     ]
    }
   ],
   "source": [
    "spark.sql('select * from my_schema.spv_test').show()"
   ]
  },
  {
   "cell_type": "code",
   "execution_count": 9,
   "metadata": {},
   "outputs": [
    {
     "output_type": "stream",
     "name": "stdout",
     "text": [
      "+---+\n|  1|\n+---+\n|  1|\n+---+\n\n"
     ]
    }
   ],
   "source": [
    "df.createOrReplaceTempView(\"test_view\")\n",
    "spark.sql('select * from test_view').show()"
   ]
  },
  {
   "cell_type": "code",
   "execution_count": 10,
   "metadata": {},
   "outputs": [
    {
     "output_type": "execute_result",
     "data": {
      "text/plain": [
       "DataFrame[]"
      ]
     },
     "metadata": {},
     "execution_count": 10
    }
   ],
   "source": [
    "#Insert\n",
    "spark.sql(\"\"\"insert into table my_schema.spv_test\n",
    "select 2\"\"\")"
   ]
  },
  {
   "cell_type": "code",
   "execution_count": 11,
   "metadata": {},
   "outputs": [
    {
     "output_type": "stream",
     "name": "stdout",
     "text": [
      "+---+\n|  1|\n+---+\n|  2|\n|  1|\n+---+\n\n"
     ]
    }
   ],
   "source": [
    "spark.sql('select * from my_schema.spv_test').show()"
   ]
  },
  {
   "cell_type": "code",
   "execution_count": 12,
   "metadata": {},
   "outputs": [],
   "source": [
    "from pyspark.sql import Row\n",
    "l = [('один',1),('два',2),('три',3),('X',0),]\n",
    "rdd = sc.parallelize(l)\n",
    "numbers = rdd.map(lambda x: Row(name=x[0], id=int(x[1])))\n",
    "df_1 = sqlContext.createDataFrame(numbers)"
   ]
  },
  {
   "cell_type": "code",
   "execution_count": 13,
   "metadata": {},
   "outputs": [
    {
     "output_type": "stream",
     "name": "stdout",
     "text": [
      "+----+---+\n|name| id|\n+----+---+\n|один|  1|\n| два|  2|\n| три|  3|\n|   X|  0|\n+----+---+\n\n"
     ]
    }
   ],
   "source": [
    "df_1.show()"
   ]
  },
  {
   "cell_type": "code",
   "execution_count": 14,
   "metadata": {},
   "outputs": [
    {
     "output_type": "execute_result",
     "data": {
      "text/plain": [
       "DataFrame[]"
      ]
     },
     "metadata": {},
     "execution_count": 14
    }
   ],
   "source": [
    "spark.sql('drop table if exists my_schema.spv_test purge') # !!!"
   ]
  },
  {
   "cell_type": "code",
   "execution_count": 15,
   "metadata": {},
   "outputs": [
    {
     "output_type": "stream",
     "name": "stdout",
     "text": [
      "pavel\n"
     ]
    }
   ],
   "source": [
    "!whoami"
   ]
  },
  {
   "cell_type": "code",
   "execution_count": 16,
   "metadata": {},
   "outputs": [
    {
     "output_type": "execute_result",
     "data": {
      "text/plain": [
       "pyspark.sql.dataframe.DataFrame"
      ]
     },
     "metadata": {},
     "execution_count": 16
    }
   ],
   "source": [
    "type(df)"
   ]
  },
  {
   "cell_type": "code",
   "execution_count": 2,
   "metadata": {},
   "outputs": [
    {
     "output_type": "stream",
     "name": "stdout",
     "text": [
      "2021-06-20 21:05:09,637 WARN util.NativeCodeLoader: Unable to load native-hadoop library for your platform... using builtin-java classes where applicable\n",
      "Found 13 items\n",
      "drwxrwxr-x   - pavel pavel       4096 2021-06-20 17:40 .ipynb_checkpoints\n",
      "-rw-rw-r--   1 pavel pavel       2154 2021-06-20 17:37 3_04_rdd.ipynb\n",
      "-rw-rw-r--   1 pavel pavel       2220 2021-06-20 17:32 3_05_parall.ipynb\n",
      "-rw-rw-r--   1 pavel pavel       1509 2021-06-20 17:32 3_11_filter.ipynb\n",
      "-rw-rw-r--   1 pavel pavel       3020 2021-06-20 17:32 3_14_union.ipynb\n",
      "-rw-rw-r--   1 pavel pavel       2906 2021-06-20 17:32 3_26_map.ipynb\n",
      "-rw-rw-r--   1 pavel pavel       2026 2021-06-20 17:32 3_29_flatmap.ipynb\n",
      "-rw-rw-r--   1 pavel pavel       1891 2021-06-20 17:40 3_32_reduce.ipynb\n",
      "-rw-rw-r--   1 pavel pavel       1732 2021-06-20 17:37 3_35_aggregate.ipynb\n",
      "-rw-rw-r--   1 pavel pavel         24 2021-06-20 17:32 test_table.csv\n",
      "-rw-rw-r--   1 pavel pavel         24 2021-06-20 17:32 test_table_2.csv\n",
      "-rw-rw-r--   1 pavel pavel        577 2021-06-20 17:32 test_text.txt\n",
      "-rw-rw-r--   1 pavel pavel       7987 2021-06-20 21:05 tutorial.ipynb\n"
     ]
    }
   ],
   "source": [
    "!hdfs dfs -ls"
   ]
  }
 ]
}