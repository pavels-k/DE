{
 "cells": [
  {
   "cell_type": "code",
   "execution_count": 1,
   "id": "20868e2f",
   "metadata": {},
   "outputs": [],
   "source": [
    "#! /usr/bin/env python\n",
    "# -*- coding: utf-8 -*-\n",
    "\n",
    "# page 46\n",
    "from pyspark import SparkConf\n",
    "from pyspark.context import SparkContext\n",
    "from pyspark.sql import SQLContext, functions as f\n",
    "\n",
    "spark = SparkContext.getOrCreate(SparkConf())\n",
    "sqlContext = SQLContext(spark)"
   ]
  },
  {
   "cell_type": "code",
   "execution_count": 2,
   "id": "8bc4b870",
   "metadata": {},
   "outputs": [
    {
     "name": "stdout",
     "output_type": "stream",
     "text": [
      "+--------------------+\n",
      "|               value|\n",
      "+--------------------+\n",
      "|Lorem Ipsum has b...|\n",
      "|specimen book. It...|\n",
      "+--------------------+\n",
      "\n"
     ]
    }
   ],
   "source": [
    "lines = sqlContext.read.text(\"test_text.txt\")\n",
    "new_lines = lines.where(f.col('value').like(\"%has%\"))\n",
    "new_lines.show()"
   ]
  }
 ],
 "metadata": {
  "kernelspec": {
   "display_name": "Python 3",
   "language": "python",
   "name": "python3"
  },
  "language_info": {
   "codemirror_mode": {
    "name": "ipython",
    "version": 3
   },
   "file_extension": ".py",
   "mimetype": "text/x-python",
   "name": "python",
   "nbconvert_exporter": "python",
   "pygments_lexer": "ipython3",
   "version": "3.7.0"
  }
 },
 "nbformat": 4,
 "nbformat_minor": 5
}
