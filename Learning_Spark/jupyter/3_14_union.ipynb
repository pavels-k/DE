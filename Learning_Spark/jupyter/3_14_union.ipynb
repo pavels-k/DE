{
 "cells": [
  {
   "cell_type": "code",
   "execution_count": 2,
   "id": "178b5bcb",
   "metadata": {},
   "outputs": [],
   "source": [
    "#! /usr/bin/env python\n",
    "# -*- coding: utf-8 -*-\n",
    "\n",
    "# page 47\n",
    "from pyspark import SparkConf\n",
    "from pyspark.context import SparkContext\n",
    "from pyspark.sql import SQLContext\n",
    "\n",
    "spark = SparkContext.getOrCreate(SparkConf())\n",
    "sqlContext = SQLContext(spark)"
   ]
  },
  {
   "cell_type": "code",
   "execution_count": 3,
   "id": "c7945b48",
   "metadata": {},
   "outputs": [
    {
     "name": "stdout",
     "output_type": "stream",
     "text": [
      "+-----+-----+\n",
      "|A_col|B_col|\n",
      "+-----+-----+\n",
      "|    1|    4|\n",
      "|    2|    5|\n",
      "|    3|    6|\n",
      "|    2|    2|\n",
      "|    7|    7|\n",
      "|    9|    8|\n",
      "+-----+-----+\n",
      "\n"
     ]
    }
   ],
   "source": [
    "table1 = sqlContext.read.csv('test_table.csv', header=\"true\", sep = ';')\n",
    "table2 = sqlContext.read.csv('test_table_2.csv', header=\"true\", sep = ';')\n",
    "\n",
    "table_union = table1.union(table2)\n",
    "table_union.show()"
   ]
  },
  {
   "cell_type": "code",
   "execution_count": 4,
   "id": "65827ccc",
   "metadata": {},
   "outputs": [
    {
     "data": {
      "text/plain": [
       "[Row(A_col='1', B_col='4'), Row(A_col='2', B_col='5')]"
      ]
     },
     "execution_count": 4,
     "metadata": {},
     "output_type": "execute_result"
    }
   ],
   "source": [
    "table_union.take(2)"
   ]
  },
  {
   "cell_type": "code",
   "execution_count": 5,
   "id": "236c3b37",
   "metadata": {},
   "outputs": [
    {
     "data": {
      "text/plain": [
       "list"
      ]
     },
     "execution_count": 5,
     "metadata": {},
     "output_type": "execute_result"
    }
   ],
   "source": [
    "type(table_union.take(2))"
   ]
  },
  {
   "cell_type": "code",
   "execution_count": 6,
   "id": "a17e2c4f",
   "metadata": {},
   "outputs": [
    {
     "data": {
      "text/plain": [
       "6"
      ]
     },
     "execution_count": 6,
     "metadata": {},
     "output_type": "execute_result"
    }
   ],
   "source": [
    "table_union.count()"
   ]
  },
  {
   "cell_type": "code",
   "execution_count": 7,
   "id": "0a348efc",
   "metadata": {},
   "outputs": [
    {
     "data": {
      "text/plain": [
       "6"
      ]
     },
     "execution_count": 7,
     "metadata": {},
     "output_type": "execute_result"
    }
   ],
   "source": [
    "len(table_union.collect())"
   ]
  }
 ],
 "metadata": {
  "kernelspec": {
   "display_name": "Python 3",
   "language": "python",
   "name": "python3"
  },
  "language_info": {
   "codemirror_mode": {
    "name": "ipython",
    "version": 3
   },
   "file_extension": ".py",
   "mimetype": "text/x-python",
   "name": "python",
   "nbconvert_exporter": "python",
   "pygments_lexer": "ipython3",
   "version": "3.7.0"
  }
 },
 "nbformat": 4,
 "nbformat_minor": 5
}
