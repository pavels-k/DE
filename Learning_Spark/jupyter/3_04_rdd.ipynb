{
 "cells": [
  {
   "cell_type": "code",
   "execution_count": 1,
   "id": "45992a60",
   "metadata": {},
   "outputs": [],
   "source": [
    "#! /usr/bin/env python\n",
    "# -*- coding: utf-8 -*-\n",
    "\n",
    "# page 44\n",
    "from pyspark import SparkConf\n",
    "from pyspark.context import SparkContext\n",
    "from pyspark.sql import SQLContext\n",
    "\n",
    "spark = SparkContext.getOrCreate(SparkConf())\n",
    "sqlContext = SQLContext(spark)"
   ]
  },
  {
   "cell_type": "code",
   "execution_count": 2,
   "id": "76a2df80",
   "metadata": {},
   "outputs": [
    {
     "output_type": "stream",
     "name": "stdout",
     "text": [
      "+-----+-----+\n|A_col|B_col|\n+-----+-----+\n|    1|    4|\n|    2|    5|\n|    3|    6|\n+-----+-----+\n\n"
     ]
    }
   ],
   "source": [
    "table = sqlContext.read.csv('test_table.csv', header=\"true\", sep = ';')\n",
    "table.show()"
   ]
  },
  {
   "cell_type": "code",
   "execution_count": 3,
   "id": "02b68984",
   "metadata": {},
   "outputs": [
    {
     "output_type": "stream",
     "name": "stdout",
     "text": [
      "+--------------------+\n|               value|\n+--------------------+\n|Lorem Ipsum is si...|\n|Lorem Ipsum has b...|\n|when an unknown p...|\n|specimen book. It...|\n|electronic typese...|\n|the 1960s with th...|\n|and more recently...|\n|including version...|\n+--------------------+\n\n"
     ]
    }
   ],
   "source": [
    "lines = sqlContext.read.text(\"test_text.txt\")\n",
    "lines.show()"
   ]
  },
  {
   "cell_type": "code",
   "execution_count": null,
   "metadata": {},
   "outputs": [],
   "source": []
  }
 ],
 "metadata": {
  "kernelspec": {
   "name": "python3",
   "display_name": "Python 3.8.5 64-bit"
  },
  "language_info": {
   "codemirror_mode": {
    "name": "ipython",
    "version": 3
   },
   "file_extension": ".py",
   "mimetype": "text/x-python",
   "name": "python",
   "nbconvert_exporter": "python",
   "pygments_lexer": "ipython3",
   "version": "3.8.5"
  },
  "interpreter": {
   "hash": "916dbcbb3f70747c44a77c7bcd40155683ae19c65e1c03b4aa3499c5328201f1"
  }
 },
 "nbformat": 4,
 "nbformat_minor": 5
}