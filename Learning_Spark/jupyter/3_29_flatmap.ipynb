{
 "metadata": {
  "language_info": {
   "codemirror_mode": {
    "name": "ipython",
    "version": 3
   },
   "file_extension": ".py",
   "mimetype": "text/x-python",
   "name": "python",
   "nbconvert_exporter": "python",
   "pygments_lexer": "ipython3",
   "version": "3.7.0"
  },
  "orig_nbformat": 2,
  "kernelspec": {
   "name": "python370jvsc74a57bd0a431e305b0a2f319d2f929bdf86201a77cba2516e49afed44ec7963b78c4349d",
   "display_name": "Python 3.7.0 64-bit"
  },
  "metadata": {
   "interpreter": {
    "hash": "a431e305b0a2f319d2f929bdf86201a77cba2516e49afed44ec7963b78c4349d"
   }
  }
 },
 "nbformat": 4,
 "nbformat_minor": 2,
 "cells": [
  {
   "cell_type": "code",
   "execution_count": 1,
   "metadata": {},
   "outputs": [],
   "source": [
    "#! /usr/bin/env python\n",
    "# -*- coding: utf-8 -*-\n",
    "\n",
    "# page 56\n",
    "from pyspark import SparkConf\n",
    "from pyspark.context import SparkContext\n",
    "from pyspark.sql import SQLContext\n",
    "import pandas as pd\n",
    "\n",
    "spark = SparkContext.getOrCreate(SparkConf())\n",
    "sqlContext = SQLContext(spark)"
   ]
  },
  {
   "cell_type": "code",
   "execution_count": 9,
   "metadata": {},
   "outputs": [
    {
     "output_type": "stream",
     "name": "stdout",
     "text": [
      "hello\nworld\nhello\nworld\n2\n"
     ]
    }
   ],
   "source": [
    "lines = spark.parallelize(['hello world','hello world 2']) \n",
    "\n",
    "#lines = lines.map(lambda x: (x, )).toDF()\n",
    "#lines.show()\n",
    "\n",
    "lines = lines.flatMap(lambda line: line.split(\" \"))\n",
    "for word in lines.collect():\n",
    "    print(word)"
   ]
  },
  {
   "cell_type": "code",
   "execution_count": 10,
   "metadata": {},
   "outputs": [
    {
     "output_type": "stream",
     "name": "stdout",
     "text": [
      "+-----+\n|   _1|\n+-----+\n|hello|\n|world|\n|hello|\n|world|\n|    2|\n+-----+\n\n"
     ]
    }
   ],
   "source": [
    "lines = lines.map(lambda x: (x, )).toDF()\n",
    "lines.show()"
   ]
  }
 ]
}