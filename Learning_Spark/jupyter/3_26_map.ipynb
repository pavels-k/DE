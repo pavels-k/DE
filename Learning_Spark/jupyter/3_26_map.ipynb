{
 "cells": [
  {
   "cell_type": "code",
   "execution_count": 1,
   "id": "871dc007",
   "metadata": {},
   "outputs": [],
   "source": [
    "#! /usr/bin/env python\n",
    "# -*- coding: utf-8 -*-\n",
    "\n",
    "# page 55\n",
    "from pyspark import SparkConf\n",
    "from pyspark.context import SparkContext\n",
    "from pyspark.sql import SQLContext\n",
    "\n",
    "spark = SparkContext.getOrCreate(SparkConf())\n",
    "sqlContext = SQLContext(spark)"
   ]
  },
  {
   "cell_type": "code",
   "execution_count": 2,
   "id": "2559ecc0",
   "metadata": {},
   "outputs": [
    {
     "output_type": "stream",
     "name": "stdout",
     "text": [
      "<class 'pyspark.rdd.RDD'>\n",
      "1\n",
      "4\n",
      "9\n",
      "16\n"
     ]
    }
   ],
   "source": [
    "nums = spark.parallelize([1,2,3,4]) \n",
    "print(type(nums))\n",
    "squared = nums.map(lambda x: x*x).collect()\n",
    "for num in squared:\n",
    "    print(num)"
   ]
  },
  {
   "cell_type": "code",
   "execution_count": 3,
   "id": "a444e2cb",
   "metadata": {},
   "outputs": [
    {
     "output_type": "stream",
     "name": "stdout",
     "text": [
      "+---+\n| _1|\n+---+\n|  1|\n|  2|\n|  3|\n|  4|\n+---+\n\n<class 'pyspark.sql.dataframe.DataFrame'>\n"
     ]
    }
   ],
   "source": [
    "nums = nums.map(lambda x: (x, )).toDF()\n",
    "nums.show()\n",
    "print(type(nums))"
   ]
  },
  {
   "cell_type": "code",
   "execution_count": 4,
   "metadata": {},
   "outputs": [],
   "source": [
    "# Реализую универсальную функцию по добавлению столбца с агрегатной функцией по rdd\n",
    "def AggCol(rdd, func):\n",
    "    list_col = rdd.map(func)\n",
    "    df = list_col.map(lambda x: (x, )).toDF()\n",
    "    return df"
   ]
  },
  {
   "cell_type": "code",
   "execution_count": 5,
   "metadata": {},
   "outputs": [
    {
     "output_type": "stream",
     "name": "stdout",
     "text": [
      "+---+\n| _1|\n+---+\n|  1|\n|  4|\n|  9|\n| 16|\n+---+\n\n"
     ]
    }
   ],
   "source": [
    "def square(x): return x*x\n",
    "nums = spark.parallelize([1,2,3,4]) \n",
    "\n",
    "# Вызов\n",
    "new_num = AggCol(nums, square)\n",
    "#\n",
    "\n",
    "new_num.show()"
   ]
  }
 ],
 "metadata": {
  "kernelspec": {
   "name": "python370jvsc74a57bd0a431e305b0a2f319d2f929bdf86201a77cba2516e49afed44ec7963b78c4349d",
   "display_name": "Python 3.7.0 64-bit"
  },
  "language_info": {
   "codemirror_mode": {
    "name": "ipython",
    "version": 3
   },
   "file_extension": ".py",
   "mimetype": "text/x-python",
   "name": "python",
   "nbconvert_exporter": "python",
   "pygments_lexer": "ipython3",
   "version": "3.7.0"
  },
  "metadata": {
   "interpreter": {
    "hash": "a431e305b0a2f319d2f929bdf86201a77cba2516e49afed44ec7963b78c4349d"
   }
  }
 },
 "nbformat": 4,
 "nbformat_minor": 5
}